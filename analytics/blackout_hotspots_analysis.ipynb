{
 "cells": [
  {
   "cell_type": "markdown",
   "id": "7ff89dd6",
   "metadata": {},
   "source": [
    "# Анализ Географической Уязвимости Владивостока"
   ]
  },
  {
   "cell_type": "code",
   "execution_count": 18,
   "id": "6ce631b9",
   "metadata": {},
   "outputs": [
    {
     "name": "stdout",
     "output_type": "stream",
     "text": [
      "Подключение к базе данных ../databases/dataset.db успешно установлено.\n"
     ]
    }
   ],
   "source": [
    "import sqlite3\n",
    "import pandas as pd\n",
    "from datetime import datetime\n",
    "\n",
    "# Подключение к базе данных\n",
    "DB_PATH = '../databases/dataset.db'\n",
    "conn = sqlite3.connect(DB_PATH)\n",
    "cursor = conn.cursor()\n",
    "\n",
    "print(f\"Подключение к базе данных {DB_PATH} успешно установлено.\")"
   ]
  },
  {
   "cell_type": "code",
   "execution_count": 19,
   "id": "367b90b4",
   "metadata": {},
   "outputs": [
    {
     "name": "stdout",
     "output_type": "stream",
     "text": [
      "Обработано 25073 отключений.\n"
     ]
    }
   ],
   "source": [
    "# Запрос для извлечения всех отключений\n",
    "query_raw_blackouts = \"\"\"\n",
    "SELECT\n",
    "    id,\n",
    "    start_date,\n",
    "    end_date,\n",
    "    type\n",
    "FROM\n",
    "    blackouts;\n",
    "\"\"\"\n",
    "blackouts_df = pd.read_sql_query(query_raw_blackouts, conn)\n",
    "\n",
    "# Преобразование строк в datetime объекты\n",
    "blackouts_df['start_dt'] = pd.to_datetime(blackouts_df['start_date'])\n",
    "blackouts_df['end_dt'] = pd.to_datetime(blackouts_df['end_date'])\n",
    "\n",
    "# Расчет длительности в часах\n",
    "blackouts_df['duration_hours'] = (blackouts_df['end_dt'] - blackouts_df['start_dt']).dt.total_seconds() / 3600\n",
    "\n",
    "# Ограничим анализ отключениями, длительность которых разумна (например, не более 30 дней)\n",
    "blackouts_df = blackouts_df[blackouts_df['duration_hours'] > 0]\n",
    "blackouts_df = blackouts_df[blackouts_df['duration_hours'] < 720] # Менее 30 дней\n",
    "\n",
    "# Создаем временную таблицу в памяти SQLite для агрегации\n",
    "blackouts_df.to_sql('temp_blackouts_processed', conn, if_exists='replace', index=False)\n",
    "\n",
    "print(f\"Обработано {len(blackouts_df)} отключений.\")"
   ]
  },
  {
   "cell_type": "code",
   "execution_count": 20,
   "id": "50fdf335",
   "metadata": {},
   "outputs": [
    {
     "name": "stdout",
     "output_type": "stream",
     "text": [
      "## 🥇 ТОП-10 Крупных Народных Районов по Частоте Отключений\n",
      "| big_folk_district_name   |   total_blackouts_count |   total_duration_hours |   avg_duration_hours |\n",
      "|:-------------------------|------------------------:|-----------------------:|---------------------:|\n",
      "| Центр                    |                   14128 |               975004   |                69.01 |\n",
      "| Чуркин                   |                   13865 |               527719   |                38.06 |\n",
      "| Вторая Речка             |                   13206 |               722006   |                54.67 |\n",
      "| 64, 71 микрорайоны       |                   10511 |               319999   |                30.44 |\n",
      "| Трудовое                 |                   10424 |                86256.6 |                 8.27 |\n",
      "| Садгород                 |                    8501 |                68645.4 |                 8.07 |\n",
      "| Столетие                 |                    8372 |               548876   |                65.56 |\n",
      "| Борисенко                |                    8314 |               342972   |                41.25 |\n",
      "| Весенняя                 |                    8208 |                66324.8 |                 8.08 |\n",
      "| Эгершельд                |                    7563 |               380419   |                50.3  |\n",
      "\n",
      "---\n",
      "## ⏱️ Крупные Народные Районы по Суммарной Длительности (часы)\n",
      "| big_folk_district_name   |   total_blackouts_count |   total_duration_hours |   avg_duration_hours |\n",
      "|:-------------------------|------------------------:|-----------------------:|---------------------:|\n",
      "| Центр                    |                   14128 |                 975004 |                69.01 |\n",
      "| Вторая Речка             |                   13206 |                 722006 |                54.67 |\n",
      "| Столетие                 |                    8372 |                 548876 |                65.56 |\n",
      "| Чуркин                   |                   13865 |                 527719 |                38.06 |\n",
      "| Эгершельд                |                    7563 |                 380419 |                50.3  |\n",
      "| Первая речка             |                    5595 |                 377861 |                67.54 |\n",
      "| Борисенко                |                    8314 |                 342972 |                41.25 |\n",
      "| 64, 71 микрорайоны       |                   10511 |                 319999 |                30.44 |\n",
      "| Баляева                  |                    7181 |                 299441 |                41.7  |\n",
      "| БАМ                      |                    6026 |                 288370 |                47.85 |\n"
     ]
    }
   ],
   "source": [
    "# Запрос для агрегации по крупным народным районам\n",
    "query_big_folk = \"\"\"\n",
    "SELECT\n",
    "    T1.name AS big_folk_district_name,\n",
    "    COUNT(T2.blackout_id) AS total_blackouts_count,\n",
    "    ROUND(SUM(T3.duration_hours), 2) AS total_duration_hours,\n",
    "    ROUND(AVG(T3.duration_hours), 2) AS avg_duration_hours\n",
    "FROM\n",
    "    big_folk_districts AS T1\n",
    "JOIN\n",
    "    buildings AS T4 ON T1.id = T4.big_folk_district_id\n",
    "JOIN\n",
    "    blackouts_buildings AS T2 ON T4.id = T2.building_id\n",
    "JOIN\n",
    "    temp_blackouts_processed AS T3 ON T2.blackout_id = T3.id\n",
    "GROUP BY\n",
    "    T1.name\n",
    "ORDER BY\n",
    "    total_blackouts_count DESC;\n",
    "\"\"\"\n",
    "\n",
    "df_big_folk = pd.read_sql_query(query_big_folk, conn)\n",
    "\n",
    "print(\"## 🥇 ТОП-10 Крупных Народных Районов по Частоте Отключений\")\n",
    "print(df_big_folk.head(10).to_markdown(index=False))\n",
    "\n",
    "print(\"\\n---\")\n",
    "\n",
    "print(\"## ⏱️ Крупные Народные Районы по Суммарной Длительности (часы)\")\n",
    "print(df_big_folk.sort_values(by='total_duration_hours', ascending=False).head(10).to_markdown(index=False))"
   ]
  },
  {
   "cell_type": "code",
   "execution_count": 21,
   "id": "19430265",
   "metadata": {},
   "outputs": [
    {
     "name": "stdout",
     "output_type": "stream",
     "text": [
      "## 🥈 Официальные Районы: Частота и Длительность Отключений\n",
      "| official_district_name   |   total_blackouts_count |   total_duration_hours |\n",
      "|:-------------------------|------------------------:|-----------------------:|\n",
      "| Советский район          |                   53451 |            1.25932e+06 |\n",
      "| Ленинский район          |                   40159 |            1.82571e+06 |\n",
      "| Первомайский район       |                   34427 |            1.34679e+06 |\n",
      "| Первореченский район     |                   28527 |            1.57834e+06 |\n",
      "| Фрунзенский район        |                   16843 |            1.08292e+06 |\n"
     ]
    }
   ],
   "source": [
    "# Запрос для агрегации по официальным районам\n",
    "query_official_district = \"\"\"\n",
    "SELECT\n",
    "    T1.name AS official_district_name,\n",
    "    COUNT(T2.blackout_id) AS total_blackouts_count,\n",
    "    ROUND(SUM(T3.duration_hours), 2) AS total_duration_hours\n",
    "FROM\n",
    "    districts AS T1\n",
    "JOIN\n",
    "    buildings AS T4 ON T1.id = T4.district_id\n",
    "JOIN\n",
    "    blackouts_buildings AS T2 ON T4.id = T2.building_id\n",
    "JOIN\n",
    "    temp_blackouts_processed AS T3 ON T2.blackout_id = T3.id\n",
    "GROUP BY\n",
    "    T1.name\n",
    "ORDER BY\n",
    "    total_blackouts_count DESC;\n",
    "\"\"\"\n",
    "\n",
    "df_official = pd.read_sql_query(query_official_district, conn)\n",
    "\n",
    "print(\"## 🥈 Официальные Районы: Частота и Длительность Отключений\")\n",
    "print(df_official.to_markdown(index=False))"
   ]
  },
  {
   "cell_type": "code",
   "execution_count": 22,
   "id": "463cd720",
   "metadata": {},
   "outputs": [
    {
     "name": "stdout",
     "output_type": "stream",
     "text": [
      "## 🥉 ТОП-15 Улиц-Хотспотов (по частоте отключений, с учетом 100+ инцидентов)\n",
      "| street_name                  |   total_blackouts_count |   total_duration_hours |   affected_buildings_count |\n",
      "|:-----------------------------|------------------------:|-----------------------:|---------------------------:|\n",
      "| 100-летия Владивостока пр-кт |                    3607 |               191618   |                        317 |\n",
      "| Нейбута ул.                  |                    3525 |                94091.7 |                        155 |\n",
      "| Адмирала Кузнецова ул.       |                    3229 |               100535   |                         80 |\n",
      "| Красного Знамени пр-кт       |                    3212 |               130969   |                        147 |\n",
      "| Калинина ул.                 |                    3172 |               120168   |                        298 |\n",
      "| Русская ул.                  |                    3023 |               183395   |                        291 |\n",
      "| Луговая ул.                  |                    2905 |               113847   |                        122 |\n",
      "| Светланская ул.              |                    2555 |               156237   |                        222 |\n",
      "| Океанский пр-кт              |                    2519 |               141056   |                        176 |\n",
      "| Кирова ул.                   |                    2402 |               120072   |                        125 |\n",
      "| Борисенко ул.                |                    2363 |               104790   |                        171 |\n",
      "| Адмирала Юмашева ул.         |                    2272 |                87843.4 |                         86 |\n",
      "| Крыгина ул.                  |                    1767 |                68021.2 |                        116 |\n",
      "| Сахалинская ул.              |                    1619 |                69997.4 |                        106 |\n",
      "| Окатовая ул.                 |                    1494 |                58471.6 |                         60 |\n"
     ]
    }
   ],
   "source": [
    "# Запрос для агрегации по улицам\n",
    "query_street = \"\"\"\n",
    "SELECT\n",
    "    T1.name AS street_name,\n",
    "    COUNT(T2.blackout_id) AS total_blackouts_count,\n",
    "    ROUND(SUM(T3.duration_hours), 2) AS total_duration_hours,\n",
    "    COUNT(DISTINCT T4.id) AS affected_buildings_count\n",
    "FROM\n",
    "    streets AS T1\n",
    "JOIN\n",
    "    buildings AS T4 ON T1.id = T4.street_id\n",
    "JOIN\n",
    "    blackouts_buildings AS T2 ON T4.id = T2.building_id\n",
    "JOIN\n",
    "    temp_blackouts_processed AS T3 ON T2.blackout_id = T3.id\n",
    "GROUP BY\n",
    "    T1.name\n",
    "HAVING \n",
    "    total_blackouts_count > 100 -- Фильтр для значимых улиц\n",
    "ORDER BY\n",
    "    total_blackouts_count DESC\n",
    "LIMIT 15;\n",
    "\"\"\"\n",
    "\n",
    "df_street = pd.read_sql_query(query_street, conn)\n",
    "\n",
    "print(\"## 🥉 ТОП-15 Улиц-Хотспотов (по частоте отключений, с учетом 100+ инцидентов)\")\n",
    "print(df_street.to_markdown(index=False))"
   ]
  },
  {
   "cell_type": "code",
   "execution_count": 23,
   "id": "01aef308",
   "metadata": {},
   "outputs": [
    {
     "name": "stdout",
     "output_type": "stream",
     "text": [
      "Временная таблица temp_blackouts_processed удалена. Датасет возвращен к исходному состоянию.\n",
      "\n",
      "База данных закрыта.\n"
     ]
    }
   ],
   "source": [
    "# Удаление временной таблицы\n",
    "cursor.execute(\"DROP TABLE IF EXISTS temp_blackouts_processed;\")\n",
    "conn.commit()\n",
    "print(\"Временная таблица temp_blackouts_processed удалена. Датасет возвращен к исходному состоянию.\")\n",
    "conn.close()\n",
    "print(\"\\nБаза данных закрыта.\")"
   ]
  }
 ],
 "metadata": {
  "kernelspec": {
   "display_name": "Python 3",
   "language": "python",
   "name": "python3"
  },
  "language_info": {
   "codemirror_mode": {
    "name": "ipython",
    "version": 3
   },
   "file_extension": ".py",
   "mimetype": "text/x-python",
   "name": "python",
   "nbconvert_exporter": "python",
   "pygments_lexer": "ipython3",
   "version": "3.13.2"
  }
 },
 "nbformat": 4,
 "nbformat_minor": 5
}
