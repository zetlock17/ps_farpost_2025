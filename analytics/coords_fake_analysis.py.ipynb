{
 "cells": [
  {
   "cell_type": "code",
   "execution_count": 1,
   "id": "20bba9f8",
   "metadata": {},
   "outputs": [
    {
     "name": "stdout",
     "output_type": "stream",
     "text": [
      "Успешное подключение к базе данных: ../databases/dataset.db\n",
      "\n",
      "--- Анализ наличия координат по статусу здания (is_fake) ---\n",
      "\n",
      "| Статус (is_fake)   | С координатами (NOT NULL) | Без координат (NULL)   | Всего в группе  |\n",
      "|-------------------|---------------------------|------------------------|-----------------|\n",
      "| ФЕЙКОВОЕ (1)       | 4402                      | 7678                   | 12080           |\n",
      "| РЕАЛЬНОЕ (0)       | 46119                     | 0                      | 46119           |\n",
      "|-------------------|---------------------------|------------------------|-----------------|\n",
      "\n",
      "Всего записей в таблице buildings: 58199\n",
      "\n",
      "Соединение с БД закрыто.\n"
     ]
    }
   ],
   "source": [
    "import sqlite3\n",
    "\n",
    "DB_NAME = '../databases/dataset.db'\n",
    "BUILDINGS_TABLE = 'buildings'\n",
    "\n",
    "conn = None\n",
    "try:\n",
    "    conn = sqlite3.connect(DB_NAME)\n",
    "    cursor = conn.cursor()\n",
    "    \n",
    "    print(f\"Успешное подключение к базе данных: {DB_NAME}\\n\")\n",
    "    print(\"--- Анализ наличия координат по статусу здания (is_fake) ---\")\n",
    "\n",
    "    # ----------------------------------------------------------------------\n",
    "    # SQL-запрос для подсчета всех четырех комбинаций\n",
    "    # ----------------------------------------------------------------------\n",
    "    analysis_query = f\"\"\"\n",
    "    SELECT \n",
    "        is_fake,\n",
    "        SUM(CASE WHEN coordinates IS NOT NULL THEN 1 ELSE 0 END) AS has_coords_count,\n",
    "        SUM(CASE WHEN coordinates IS NULL THEN 1 ELSE 0 END) AS no_coords_count,\n",
    "        COUNT(*) AS total_count\n",
    "    FROM {BUILDINGS_TABLE}\n",
    "    GROUP BY is_fake\n",
    "    ORDER BY is_fake DESC;\n",
    "    \"\"\"\n",
    "    \n",
    "    cursor.execute(analysis_query)\n",
    "    results = cursor.fetchall()\n",
    "    \n",
    "    # ----------------------------------------------------------------------\n",
    "    # Обработка и вывод результатов\n",
    "    # ----------------------------------------------------------------------\n",
    "    \n",
    "    # Заголовки\n",
    "    print(f\"\\n| {'Статус (is_fake)':<18} | {'С координатами (NOT NULL)':<25} | {'Без координат (NULL)':<22} | {'Всего в группе':<15} |\")\n",
    "    print(\"|\" + \"-\"*19 + \"|\" + \"-\"*27 + \"|\" + \"-\"*24 + \"|\" + \"-\"*17 + \"|\")\n",
    "    \n",
    "    total_buildings = 0\n",
    "    \n",
    "    for is_fake, has_coords, no_coords, total in results:\n",
    "        status = \"ФЕЙКОВОЕ (1)\" if is_fake == 1 else \"РЕАЛЬНОЕ (0)\"\n",
    "        total_buildings += total\n",
    "        \n",
    "        print(f\"| {status:<18} | {has_coords:<25} | {no_coords:<22} | {total:<15} |\")\n",
    "\n",
    "    print(\"|\" + \"-\"*19 + \"|\" + \"-\"*27 + \"|\" + \"-\"*24 + \"|\" + \"-\"*17 + \"|\")\n",
    "    print(f\"\\nВсего записей в таблице buildings: {total_buildings}\")\n",
    "\n",
    "\n",
    "except sqlite3.Error as e:\n",
    "    print(f\"❌ Произошла ошибка SQLite: {e}\")\n",
    "finally:\n",
    "    if conn:\n",
    "        conn.close()\n",
    "        print(\"\\nСоединение с БД закрыто.\")"
   ]
  }
 ],
 "metadata": {
  "kernelspec": {
   "display_name": "Python 3",
   "language": "python",
   "name": "python3"
  },
  "language_info": {
   "codemirror_mode": {
    "name": "ipython",
    "version": 3
   },
   "file_extension": ".py",
   "mimetype": "text/x-python",
   "name": "python",
   "nbconvert_exporter": "python",
   "pygments_lexer": "ipython3",
   "version": "3.13.2"
  }
 },
 "nbformat": 4,
 "nbformat_minor": 5
}
