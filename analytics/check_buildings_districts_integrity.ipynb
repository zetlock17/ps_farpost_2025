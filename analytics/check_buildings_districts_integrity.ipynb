{
 "cells": [
  {
   "cell_type": "markdown",
   "id": "7d07d5c7",
   "metadata": {},
   "source": [
    "# Проверка ссылочной ценности здание -> район"
   ]
  },
  {
   "cell_type": "code",
   "execution_count": 3,
   "id": "8907e567",
   "metadata": {},
   "outputs": [
    {
     "name": "stdout",
     "output_type": "stream",
     "text": [
      "--- Проверка ссылочной целостности (здания -> районы) ---\n",
      "✅ folk_district_id: Все ссылки ведут на существующие народные районы.\n",
      "✅ big_folk_district_id: Все ссылки ведут на существующие крупные народные районы.\n"
     ]
    }
   ],
   "source": [
    "import sqlite3\n",
    "import pandas as pd\n",
    "\n",
    "DB_NAME = '../databases/dataset.db'\n",
    "BUILDINGS_TABLE = 'buildings'\n",
    "\n",
    "\n",
    "conn = sqlite3.connect(DB_NAME)\n",
    "cursor = conn.cursor()\n",
    "\n",
    "print(\"--- Проверка ссылочной целостности (здания -> районы) ---\")\n",
    "\n",
    "# Находим записи в buildings, где folk_district_id не существует в folk_districts\n",
    "orphan_folk_query = f\"\"\"\n",
    "SELECT COUNT(T1.id) \n",
    "FROM {BUILDINGS_TABLE} AS T1\n",
    "LEFT JOIN folk_districts AS T2 ON T1.folk_district_id = T2.id\n",
    "WHERE T2.id IS NULL AND T1.folk_district_id IS NOT NULL;\n",
    "\"\"\"\n",
    "\n",
    "cursor.execute(orphan_folk_query)\n",
    "orphan_folk_count = cursor.fetchone()[0]\n",
    "\n",
    "if orphan_folk_count == 0:\n",
    "    print(\"✅ folk_district_id: Все ссылки ведут на существующие народные районы.\")\n",
    "else:\n",
    "    print(f\"❌ folk_district_id: Обнаружено {orphan_folk_count} зданий с недействительным ID района.\")\n",
    "    print(\"    Рекомендация: Установите NULL для этих ссылок в buildings.folk_district_id.\")\n",
    "\n",
    "orphan_big_folk_query = f\"\"\"\n",
    "SELECT COUNT(T1.id) \n",
    "FROM {BUILDINGS_TABLE} AS T1\n",
    "LEFT JOIN big_folk_districts AS T2 ON T1.big_folk_district_id = T2.id\n",
    "WHERE T2.id IS NULL AND T1.big_folk_district_id IS NOT NULL;\n",
    "\"\"\"\n",
    "\n",
    "cursor.execute(orphan_big_folk_query)\n",
    "orphan_big_folk_count = cursor.fetchone()[0]\n",
    "\n",
    "if orphan_big_folk_count == 0:\n",
    "    print(\"✅ big_folk_district_id: Все ссылки ведут на существующие крупные народные районы.\")\n",
    "else:\n",
    "    print(f\"❌ big_folk_district_id: Обнаружено {orphan_big_folk_count} зданий с недействительным ID крупного района.\")\n",
    "    print(\"    Рекомендация: Установите NULL для этих ссылок в buildings.big_folk_district_id.\")\n",
    "\n",
    "\n",
    "\n",
    "conn.close()"
   ]
  }
 ],
 "metadata": {
  "kernelspec": {
   "display_name": "Python 3",
   "language": "python",
   "name": "python3"
  },
  "language_info": {
   "codemirror_mode": {
    "name": "ipython",
    "version": 3
   },
   "file_extension": ".py",
   "mimetype": "text/x-python",
   "name": "python",
   "nbconvert_exporter": "python",
   "pygments_lexer": "ipython3",
   "version": "3.13.2"
  }
 },
 "nbformat": 4,
 "nbformat_minor": 5
}
